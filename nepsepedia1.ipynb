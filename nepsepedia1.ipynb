{
 "cells": [
  {
   "cell_type": "code",
   "execution_count": null,
   "metadata": {},
   "outputs": [],
   "source": [
    "import pandas as pd\n",
    "import numpy as np\n"
   ]
  },
  {
   "cell_type": "code",
   "execution_count": null,
   "metadata": {},
   "outputs": [],
   "source": [
    "data_file = pd.read_csv(\"/home/sanjay/Downloads/id - Sheet.csv\", header= None   )\n",
    "data_file.rename(columns={0:'Id', 1: 'Name'}, inplace= True)\n",
    "\n",
    "data_file"
   ]
  },
  {
   "cell_type": "code",
   "execution_count": null,
   "metadata": {},
   "outputs": [],
   "source": [
    "var_1 = data_file.loc[:,[\"Id\" ]]"
   ]
  },
  {
   "cell_type": "code",
   "execution_count": null,
   "metadata": {},
   "outputs": [],
   "source": [
    "data_url = pd.read_html(\"http://www.nepalstock.com/main/stockwiseprices/index/2/?startDate=2000-01-17&endDate=&stock-symbol=131&_limit=20000000\")"
   ]
  },
  {
   "cell_type": "code",
   "execution_count": null,
   "metadata": {},
   "outputs": [],
   "source": [
    "data_url"
   ]
  },
  {
   "cell_type": "code",
   "execution_count": null,
   "metadata": {},
   "outputs": [],
   "source": [
    "l = data_url.count\n",
    "a =data_url[0].columns[0:10]"
   ]
  },
  {
   "cell_type": "code",
   "execution_count": null,
   "metadata": {},
   "outputs": [],
   "source": [
    "\n",
    "\n",
    "dataset = pd.array(data_url)\n",
    "#for i in range(len(dataset)):\n",
    "#    print(dataset[i][0],dataset[i][1], \"\\n\\r\")\n",
    "    #print(dataset[i][0])\n",
    "\n",
    "started = False\n",
    "for rows in dataset:\n",
    "    #print(type(row.values))\n",
    "    #continue\n",
    "    #for row in rows:\n",
    "    columns = rows.values\n",
    "    \n",
    "    for column in columns:\n",
    "        #if column == \"S.N.\":\n",
    "        #    started = True\n",
    "        print(column[1])\n",
    "    \n",
    "        #sql = \"INSERT INTO ohlc VALUES(NULL,\" + column[3] + \",\" + column[5]\n",
    "        #statement.query(sql).execute()\n",
    "        if( started ):\n",
    "            print(column)\n",
    "    print(\"\\r\\n\")"
   ]
  },
  {
   "cell_type": "code",
   "execution_count": null,
   "metadata": {},
   "outputs": [],
   "source": [
    "import mysql.connector\n",
    "from mysql.connector import Error"
   ]
  },
  {
   "cell_type": "code",
   "execution_count": null,
   "metadata": {},
   "outputs": [],
   "source": [
    "try:\n",
    "    DataBase = mysql.connector.connect(host =\"localhost\", \n",
    "                                        user = \"root\",\n",
    "                                        password = \"Manandhar123$\",\n",
    "                                        database =\"testdb\")\n",
    "                                        \n",
    "\n",
    "    if DataBase.is_connected():\n",
    "        db_info = DataBase.get_server_info()\n",
    "        print(\"My sql is conncected\", db_info)\n",
    "        cursor = DataBase.cursor()\n",
    "        cursor.execute(\"select database();\")\n",
    "        record = cursor.fetchone()\n",
    "        print(\"Record is executed\", record)\n",
    "\n",
    "except Error as e:\n",
    "    print(\"Error is happening\", e)\n",
    "    \n",
    "finally:\n",
    "    if DataBase.is_connected():\n",
    "       # cursor.close()\n",
    "       # Database.close()\n",
    "        print(\"Mysql is connected\")"
   ]
  },
  {
   "cell_type": "code",
   "execution_count": 39,
   "metadata": {},
   "outputs": [
    {
     "name": "stdout",
     "output_type": "stream",
     "text": [
      "Nabil Bank Limited Start Date  End Date  Stock Symbol  ACLBSLADBLADBLBADBLD83AHPCAILAKBSLAKBSLPAKJCLAKPLALBSLALICLALICLPAMFIAMFIPOAPIAVUBARUNBBCBFCBFCPOBFLPOBHBLBHBLPOBNLBNTBOKD2079BOKLBOKLPOBPCLBSBLPOBSLBSMCBBLCBBLPOCBLCBLPOCCBLCCBLPOCEFLCEFLPOCFCLCFCLPOCFLCGHCHCLCHDCCHLCITCIZBD86CLBSLCLBSLPCMBCMBFLPCMF1CMF2CORBLCORBLPCZBILCZBILPDDBLDDBLPODHPLEBLEBLCPEBLD2078EBLPOEDBLEDBLPOEICEICPOFBBLPOFHLFMDBLFMDBLPFOWADFOWADPGBBLGBBLPOGBD80/81GBILD86/87GBIMEGBIMEPGBLBSGBLBSPGDBLGDBLPOGFCLGFCLPOGGBSLGHLGICGILBGILBPOGIMES1GLBSLGLHGLICLGLICLPGMFBSGMFILGMFILPGRDBLGRDBLPGRUGUFLGUFLPOGWFD83HAMROHAMROPHATHHATHPOHBLHBLD83HBLPOHBTHDHPCHDLHFLHGIHGIPOHIDCLHPPLHURJAICFCICFCD83ICFCPOIGIIGIPOILBSJBBLJBBLPOJBLBJBNLJBNLPOJFLJFLPOJLIJOSHIJSLBBJSLBBPJSMKBLKBLD86KBLPOKEFKKHCKLBSLKLBSLPKMCDBKMCDBPKNBLKNBLPOKPCLKRBLKRBLPOKSBBLKSBBLD87KSBBLPLBBLLBBLPOLBLLBLD86LBLD88LBLPOLECLEMFLFCLFCPOLGILLGILPOLICNLICNPOLLBSLLBSPOLUKMBLMBLD2085MBLD87MBLPOMDBMDBLPOMDBPOMEGAMEGAPOMENMEROMEROPOMFILMFILPOMFLD85MHNLMKJCMKLBMLBBLMLBBLPMLBLMLBLPOMLBSMLBSLMMFDBMMFDBPMNBBLMNBBLPMPFLMPFLPOMSLBMSLBPMSMBSMSMBSPNABBCNABILNABILPNADEPNADEPPNAGRONBBNBBD2085NBBPONBBUNBF2NBLNBLD82NBLD87NCCBNCCBPONCCD86NEFNFDNFSNFSPONGPLNHDLNHPCNIBNIBD2082NIBD84NIBLPFNIBPONIBSF1NIBSF2NICANICAD 85/86NICAD8182NICAD8283NICAPNICBFNICD83/84NICD88NICGFNICLNICLBSLNICLPONICSFNIDCNIDCPONIFRANILNILPONKUNLBBLNLBBLPNLGNLGPONLICNLICLNLICLPNLICPNLONMBNMB50NMBD2085NMBD87/88NMBEB92/93NMBHF1NMBMFNMBMFPNMBPONMFBSNMFBSPNRICNRNNSEWANSEWAPNSLBNSLBPNSMNSMPONTCNTLNUBLNUBLPONVGNWCODBLODBLPOOHLPBD85PBLD84PBLD86PCBLPCBLPPDBLPOPFLPFLPOPICPICLPICLPOPICPOPLIPLICPLICPOPMHPLPPCLPRFLPOPRINPRINPOPROFLPROFLPPRVUPRVUPOPSDBLPPSFRADHIRBBD83RBCLRBCLPORHPCRHPLRJMRLFLRLFLPORLIRMBFPORMDCRMDCPORMF1RRHPRSDCRSDCPRURUSABSLSADBLSADBLPSAEFSAMAJSAND2085SANIMASAPDBLSAPDBLPSBBLJSBBLJPSBCFSBD87SBISBIBD86SBIPOSBLSBLD2082SBLD83SBLD84SBLPOSBPPSCBSCBPOSDBD87SDESISDLBSLSEFSEOSSFCSFCLSFCLPSFCPOSFFILSFFILPSFMFSGISHBLSHBLPOSHELSHINESHINEPSHIVMSHLSHPCSICSICLSICLPOSICPOSIFCSIFCPOSIGS2SILSILPOSINDUSINDUPSJCLSKBBLSKBBLPSLBBLSLBBLPSLBSSLBSLSLBSPSLCFSLISLICLSLICLPSMATASMATAPSMBSMBPOSMFBSSMFDBSMFDBPSODBLPSPARSSPDLSRBLSRBLD83SRBLPOSRD80SRSSSHLSTCSWBBLSWBBLPSYFLSYFLPOTMDBLTMDBLPTRHUFLUFLPOUICUICPOULIUMHLUMRHUNHPLUNLUPCLUPPERUSLBUSLBPVLBSVLBSPOWOMIWOMIPOYHL |  Total Rows  20 50 200 300 500  |\n"
     ]
    },
    {
     "ename": "ProgrammingError",
     "evalue": "1064 (42000): You have an error in your SQL syntax; check the manual that corresponds to your MySQL server version for the right syntax to use near 'column[0])' at line 1",
     "output_type": "error",
     "traceback": [
      "\u001b[0;31m---------------------------------------------------------------------------\u001b[0m",
      "\u001b[0;31mMySQLInterfaceError\u001b[0m                       Traceback (most recent call last)",
      "\u001b[0;32m~/.local/lib/python3.8/site-packages/mysql/connector/connection_cext.py\u001b[0m in \u001b[0;36mcmd_query\u001b[0;34m(self, query, raw, buffered, raw_as_string)\u001b[0m\n\u001b[1;32m    512\u001b[0m                 \u001b[0mquery\u001b[0m \u001b[0;34m=\u001b[0m \u001b[0mquery\u001b[0m\u001b[0;34m.\u001b[0m\u001b[0mencode\u001b[0m\u001b[0;34m(\u001b[0m\u001b[0;34m'utf-8'\u001b[0m\u001b[0;34m)\u001b[0m\u001b[0;34m\u001b[0m\u001b[0;34m\u001b[0m\u001b[0m\n\u001b[0;32m--> 513\u001b[0;31m             self._cmysql.query(query,\n\u001b[0m\u001b[1;32m    514\u001b[0m                                \u001b[0mraw\u001b[0m\u001b[0;34m=\u001b[0m\u001b[0mraw\u001b[0m\u001b[0;34m,\u001b[0m \u001b[0mbuffered\u001b[0m\u001b[0;34m=\u001b[0m\u001b[0mbuffered\u001b[0m\u001b[0;34m,\u001b[0m\u001b[0;34m\u001b[0m\u001b[0;34m\u001b[0m\u001b[0m\n",
      "\u001b[0;31mMySQLInterfaceError\u001b[0m: You have an error in your SQL syntax; check the manual that corresponds to your MySQL server version for the right syntax to use near 'column[0])' at line 1",
      "\nDuring handling of the above exception, another exception occurred:\n",
      "\u001b[0;31mProgrammingError\u001b[0m                          Traceback (most recent call last)",
      "\u001b[0;32m/tmp/ipykernel_4819/1283341206.py\u001b[0m in \u001b[0;36m<module>\u001b[0;34m\u001b[0m\n\u001b[1;32m     15\u001b[0m         \u001b[0minsert_ohlc_data\u001b[0m \u001b[0;34m=\u001b[0m \u001b[0;34m'''INSERT INTO ohlc(company_id) VALUES (column[0]);'''\u001b[0m\u001b[0;34m\u001b[0m\u001b[0;34m\u001b[0m\u001b[0m\n\u001b[1;32m     16\u001b[0m         \u001b[0;32mwith\u001b[0m \u001b[0mDataBase\u001b[0m\u001b[0;34m.\u001b[0m\u001b[0mcursor\u001b[0m\u001b[0;34m(\u001b[0m\u001b[0;34m)\u001b[0m \u001b[0;32mas\u001b[0m \u001b[0mcursor\u001b[0m\u001b[0;34m:\u001b[0m\u001b[0;34m\u001b[0m\u001b[0;34m\u001b[0m\u001b[0m\n\u001b[0;32m---> 17\u001b[0;31m             \u001b[0mcursor\u001b[0m\u001b[0;34m.\u001b[0m\u001b[0mexecute\u001b[0m\u001b[0;34m(\u001b[0m\u001b[0minsert_ohlc_data\u001b[0m\u001b[0;34m)\u001b[0m\u001b[0;34m\u001b[0m\u001b[0;34m\u001b[0m\u001b[0m\n\u001b[0m\u001b[1;32m     18\u001b[0m             \u001b[0mDataBase\u001b[0m\u001b[0;34m.\u001b[0m\u001b[0mcommit\u001b[0m\u001b[0;34m(\u001b[0m\u001b[0;34m)\u001b[0m\u001b[0;34m\u001b[0m\u001b[0;34m\u001b[0m\u001b[0m\n\u001b[1;32m     19\u001b[0m         \u001b[0;31m#sql = \"INSERT INTO ohlc VALUES(NULL,\" + column[3] + \",\" + column[5]\u001b[0m\u001b[0;34m\u001b[0m\u001b[0;34m\u001b[0m\u001b[0;34m\u001b[0m\u001b[0m\n",
      "\u001b[0;32m~/.local/lib/python3.8/site-packages/mysql/connector/cursor_cext.py\u001b[0m in \u001b[0;36mexecute\u001b[0;34m(self, operation, params, multi)\u001b[0m\n\u001b[1;32m    267\u001b[0m \u001b[0;34m\u001b[0m\u001b[0m\n\u001b[1;32m    268\u001b[0m         \u001b[0;32mtry\u001b[0m\u001b[0;34m:\u001b[0m\u001b[0;34m\u001b[0m\u001b[0;34m\u001b[0m\u001b[0m\n\u001b[0;32m--> 269\u001b[0;31m             result = self._cnx.cmd_query(stmt, raw=self._raw,\n\u001b[0m\u001b[1;32m    270\u001b[0m                                          \u001b[0mbuffered\u001b[0m\u001b[0;34m=\u001b[0m\u001b[0mself\u001b[0m\u001b[0;34m.\u001b[0m\u001b[0m_buffered\u001b[0m\u001b[0;34m,\u001b[0m\u001b[0;34m\u001b[0m\u001b[0;34m\u001b[0m\u001b[0m\n\u001b[1;32m    271\u001b[0m                                          raw_as_string=self._raw_as_string)\n",
      "\u001b[0;32m~/.local/lib/python3.8/site-packages/mysql/connector/connection_cext.py\u001b[0m in \u001b[0;36mcmd_query\u001b[0;34m(self, query, raw, buffered, raw_as_string)\u001b[0m\n\u001b[1;32m    516\u001b[0m                                query_attrs=self._query_attrs)\n\u001b[1;32m    517\u001b[0m         \u001b[0;32mexcept\u001b[0m \u001b[0mMySQLInterfaceError\u001b[0m \u001b[0;32mas\u001b[0m \u001b[0mexc\u001b[0m\u001b[0;34m:\u001b[0m\u001b[0;34m\u001b[0m\u001b[0;34m\u001b[0m\u001b[0m\n\u001b[0;32m--> 518\u001b[0;31m             raise errors.get_mysql_exception(exc.errno, msg=exc.msg,\n\u001b[0m\u001b[1;32m    519\u001b[0m                                              sqlstate=exc.sqlstate)\n\u001b[1;32m    520\u001b[0m         \u001b[0;32mexcept\u001b[0m \u001b[0mAttributeError\u001b[0m\u001b[0;34m:\u001b[0m\u001b[0;34m\u001b[0m\u001b[0;34m\u001b[0m\u001b[0m\n",
      "\u001b[0;31mProgrammingError\u001b[0m: 1064 (42000): You have an error in your SQL syntax; check the manual that corresponds to your MySQL server version for the right syntax to use near 'column[0])' at line 1"
     ]
    }
   ],
   "source": [
    "dataset = pd.array(data_url)\n",
    "#for i in range(len(dataset)):\n",
    "#    print(dataset[i][0],dataset[i][1], \"\\n\\r\")\n",
    "    #print(dataset[i][0])\n",
    "for rows in dataset:\n",
    "    #print(type(row.values))\n",
    "    #continue\n",
    "    #for row in rows:\n",
    "    columns = rows.values\n",
    "    \n",
    "    for column in columns:\n",
    "        #if column == \"S.N.\":\n",
    "        #    started = True\n",
    "        print(column[0])\n",
    "        insert_ohlc_data = '''INSERT INTO ohlc(company_id) VALUES (column[0]);'''\n",
    "        with DataBase.cursor() as cursor:\n",
    "            cursor.execute(insert_ohlc_data)\n",
    "            DataBase.commit()\n",
    "        #sql = \"INSERT INTO ohlc VALUES(NULL,\" + column[3] + \",\" + column[5]\n",
    "        #statement.query(sql).execute()\n",
    "    print(\"\\r\\n\")\n",
    "    \n",
    "    \n"
   ]
  },
  {
   "cell_type": "code",
   "execution_count": null,
   "metadata": {},
   "outputs": [],
   "source": [
    "\n",
    "\n"
   ]
  },
  {
   "cell_type": "code",
   "execution_count": null,
   "metadata": {},
   "outputs": [],
   "source": []
  }
 ],
 "metadata": {
  "interpreter": {
   "hash": "916dbcbb3f70747c44a77c7bcd40155683ae19c65e1c03b4aa3499c5328201f1"
  },
  "kernelspec": {
   "display_name": "Python 3.8.10 64-bit",
   "name": "python3"
  },
  "language_info": {
   "codemirror_mode": {
    "name": "ipython",
    "version": 3
   },
   "file_extension": ".py",
   "mimetype": "text/x-python",
   "name": "python",
   "nbconvert_exporter": "python",
   "pygments_lexer": "ipython3",
   "version": "3.8.10"
  },
  "orig_nbformat": 4
 },
 "nbformat": 4,
 "nbformat_minor": 2
}
